{
 "cells": [
  {
   "cell_type": "markdown",
   "id": "fd205341-1f6e-4022-aa71-21843eb80b32",
   "metadata": {},
   "source": [
    "## 04. Database Systems"
   ]
  },
  {
   "cell_type": "code",
   "execution_count": null,
   "id": "ffacd7a5-7764-4290-969f-829ac3d2f9ba",
   "metadata": {},
   "outputs": [],
   "source": []
  }
 ],
 "metadata": {
  "kernelspec": {
   "display_name": "Python 3 (ipykernel)",
   "language": "python",
   "name": "python3"
  },
  "language_info": {
   "codemirror_mode": {
    "name": "ipython",
    "version": 3
   },
   "file_extension": ".py",
   "mimetype": "text/x-python",
   "name": "python",
   "nbconvert_exporter": "python",
   "pygments_lexer": "ipython3",
   "version": "3.10.10"
  }
 },
 "nbformat": 4,
 "nbformat_minor": 5
}

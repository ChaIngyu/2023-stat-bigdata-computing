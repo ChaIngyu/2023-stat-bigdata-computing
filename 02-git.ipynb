{
 "cells": [
  {
   "cell_type": "markdown",
   "metadata": {},
   "source": [
    "## 0x. Git"
   ]
  },
  {
   "cell_type": "markdown",
   "metadata": {},
   "source": [
    "### 오픈 소스\n",
    "오픈 소스란 오픈 소스 소프트웨어 (Open Source Software, OSS)를 뜻하는 용어로, 공개적으로 액세스할 수 있게 설계되어 누구나 자유롭게 확인, 수정, 배포할 수 있는 코드입니다. 오픈 소스는 상위 직급의 평가자가 존재하는 것이 아니라, 커뮤니티 기반의 평가가 이루어지므로, 분산된 동시에 협업 방식으로 개발됩니다. 단일 개발자 혹은 기업이 아닌 커뮤니티 기반으로 개발이 이루어지므로 독점적인 소프트웨어보다 저렴하고, 유연하며, 지속성이 있습니다.\n",
    "\n",
    "현재의 오픈소스 소프트웨어는, 단순히 프로덕션을 넘어서 하나의 핵심적인 작업 흐름이 되었습니다. "
   ]
  },
  {
   "cell_type": "markdown",
   "metadata": {},
   "source": [
    "내가\n",
    "1. 20,000,000 줄의 대형 오픈소스 코드\n",
    "2. 30년 가량 지속하고 있는 프로젝트\n",
    "3. 핵심적인 소프트웨어\n",
    "\n",
    "를 개발하는 사람이라면?\n",
    "\n",
    "어제 작성한 코드가 "
   ]
  },
  {
   "cell_type": "code",
   "execution_count": null,
   "metadata": {},
   "outputs": [],
   "source": []
  }
 ],
 "metadata": {
  "kernelspec": {
   "display_name": "Python 3 (ipykernel)",
   "language": "python",
   "name": "python3"
  },
  "language_info": {
   "codemirror_mode": {
    "name": "ipython",
    "version": 3
   },
   "file_extension": ".py",
   "mimetype": "text/x-python",
   "name": "python",
   "nbconvert_exporter": "python",
   "pygments_lexer": "ipython3",
   "version": "3.10.10"
  }
 },
 "nbformat": 4,
 "nbformat_minor": 4
}

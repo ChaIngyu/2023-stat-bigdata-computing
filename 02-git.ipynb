{
 "cells": [
  {
   "cell_type": "markdown",
   "metadata": {},
   "source": [
    "## 02. Git"
   ]
  },
  {
   "cell_type": "markdown",
   "metadata": {},
   "source": [
    "### 오픈 소스\n",
    "오픈 소스란 오픈 소스 소프트웨어 (Open Source Software, OSS)를 뜻하는 용어로, 공개적으로 액세스할 수 있게 설계되어 누구나 자유롭게 확인, 수정, 배포할 수 있는 코드입니다. 오픈 소스는 상위 직급의 평가자가 존재하는 것이 아니라, 커뮤니티 기반의 평가가 이루어지므로, 분산된 동시에 협업 방식으로 개발됩니다. 단일 개발자 혹은 기업이 아닌 커뮤니티 기반으로 개발이 이루어지므로 독점적인 소프트웨어보다 저렴하고, 유연하며, 지속성이 있습니다.\n",
    "\n",
    "현 시점에서 오픈 소스 소프트웨어는 단순히 하나의 산출물을 내는 프로덕션 단계를 넘어서 하나의 핵심적인 작업 흐름이 되었습니다. "
   ]
  },
  {
   "cell_type": "markdown",
   "metadata": {},
   "source": [
    "내가\n",
    "1. 20,000,000 줄의 대형 오픈소스 코드\n",
    "2. 30년 가량 지속하고 있는 프로젝트\n",
    "3. 핵심적인 소프트웨어\n",
    "\n",
    "를 개발하는 사람이라면?"
   ]
  },
  {
   "cell_type": "markdown",
   "metadata": {},
   "source": [
    "1. 어지럽다.\n",
    "2. 그게 뭐지..\n",
    "3. 부담스럽다.\n",
    "4. 즐거울 것 같다.\n",
    "5. 인생에 한 번쯤은 그 정도 규모의 프로젝트를 해보고 싶다.\n",
    "\n",
    "..."
   ]
  },
  {
   "cell_type": "markdown",
   "metadata": {},
   "source": [
    "[정답](https://www.kernel.org/)"
   ]
  },
  {
   "cell_type": "markdown",
   "metadata": {},
   "source": [
    "### 개발 비화"
   ]
  },
  {
   "cell_type": "markdown",
   "metadata": {},
   "source": [
    "리누스 토발즈는 당시 수십만 줄이 넘어가는 Linux 커널을 개발하고 관리하고 있었음에도, 코드의 버전을 관리하는 소프트웨어를 사용하지 않고 있었습니다. 토발즈가 그러한 소프트웨어를 신뢰할 수 없다는 것이 가장 큰 이유였습니다. 전 세계 사람들이 보내오는 메일로부터 코드와 변경사항, 기여 내용들을 관리하고 있었습니다. 하지만 토발즈도 이러한 상황을 오래 버티지 못하고 [Bitkeeper](http://www.bitkeeper.org/)라는 버전 관리 소프트웨어를 사용했습니다. 하지만 여러가지 문제로 인해, Bitkeeper는 Linux 개발자들을 일부 제한하게 되고, 이에 분노한 토발즈는 Bitkeeper 사용을 중단하고 [Git](https://git-scm.com/) 이라는 버전 관리 시스템을 만들었습니다. ~~(TMI: 2주만에 개발했습니다.)~~ Git 또한 Linux와 마찬가지로 오픈 소스 소프트웨어로 개발되었고, 모든 사용자에게 무료로 사용할 수 있도록 공개했습니다.\n",
    "\n",
    "[리눅스 개발 비화를 그린 만화](https://joone.net/2022/10/02/47-git/)"
   ]
  },
  {
   "cell_type": "markdown",
   "metadata": {},
   "source": [
    "리누스 토발즈가 개발했다는 사실만으로 Git은 전 세계인들의 주목을 받았고, 당시 다른 버전 관리 소프트웨어를 모두 누르고 압도적인 점유율을 차지했습니다. 또한 토발즈의 이름값에 모인 뛰어난 개발자들이 버그를 수정하고, 시스템을 개선하는 등 지속적으로 업데이트되며 현재는 거의 모든 오픈소스 소프트웨어가 Git을 이용하여 개발, 관리되고 있습니다."
   ]
  },
  {
   "cell_type": "markdown",
   "metadata": {},
   "source": []
  }
 ],
 "metadata": {
  "kernelspec": {
   "display_name": "Python 3 (ipykernel)",
   "language": "python",
   "name": "python3"
  },
  "language_info": {
   "codemirror_mode": {
    "name": "ipython",
    "version": 3
   },
   "file_extension": ".py",
   "mimetype": "text/x-python",
   "name": "python",
   "nbconvert_exporter": "python",
   "pygments_lexer": "ipython3",
   "version": "3.10.10"
  }
 },
 "nbformat": 4,
 "nbformat_minor": 4
}
